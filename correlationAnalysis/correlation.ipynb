{
 "cells": [
  {
   "cell_type": "markdown",
   "metadata": {},
   "source": [
    "# Correlation between encryption time and count of set bits of key\n",
    "The notebook aims to find a correlation between the time taken by the PRESENT algorithm for encryption and the number of set bits in the master key"
   ]
  },
  {
   "cell_type": "markdown",
   "metadata": {},
   "source": [
    "## Import Essentials"
   ]
  },
  {
   "cell_type": "code",
   "execution_count": 1,
   "metadata": {},
   "outputs": [],
   "source": [
    "import string \n",
    "import random\n",
    "import time\n",
    "import pandas as pd\n",
    "import seaborn as sns\n",
    "import binascii\n",
    "import sys  \n",
    "sys.path.insert(0, './present.py')\n",
    "from present import Present"
   ]
  },
  {
   "cell_type": "markdown",
   "metadata": {},
   "source": [
    "## Helper functions\n",
    "We create two helper functions\n",
    "- `encryptPresent(message, key)` for encrypting a message with given key. The function returns the time taken to encrypt the message in microseconds.\n",
    "- r`andom_bits(word_size, bit_count)` which returns a random number with number of bits less than word_size and number of set bits equal to bit_count. "
   ]
  },
  {
   "cell_type": "code",
   "execution_count": 2,
   "metadata": {
    "_cell_guid": "79c7e3d0-c299-4dcb-8224-4455121ee9b0",
    "_uuid": "d629ff2d2480ee46fbb7e2d37f6b5fab8052498a"
   },
   "outputs": [],
   "source": [
    "def encrpytPresent(message,key):\n",
    "    cipher = Present()\n",
    "    cipher.setKey(key)\n",
    "    cipher.setMessage(message)\n",
    "    \n",
    "    start = time.perf_counter_ns()\n",
    "    out = cipher.encryption()\n",
    "    end = time.perf_counter_ns()\n",
    "\n",
    "    return (end-start)*(1e-6)"
   ]
  },
  {
   "cell_type": "code",
   "execution_count": 3,
   "metadata": {},
   "outputs": [],
   "source": [
    "# gives a number with size less than 80 bits (word_size) and number of set bits (bit_count)\n",
    "def random_bits(word_size, bit_count):\n",
    "    number = 0\n",
    "    for bit in random.sample(range(word_size), bit_count):\n",
    "        number |= 1 << bit\n",
    "    return number"
   ]
  },
  {
   "cell_type": "markdown",
   "metadata": {},
   "source": [
    "## Correlation\n",
    "We use `nm` random messages of 64 bit length. For each message, we generate `n` keys with number of set bits starting from 1 to 79 and store in elapsed time, set bit count and the key in dataframe `df`."
   ]
  },
  {
   "cell_type": "code",
   "execution_count": 5,
   "metadata": {},
   "outputs": [
    {
     "name": "stdout",
     "output_type": "stream",
     "text": [
      "message 0: qJEX5W21\n",
      "message 1: 6a10O85Z\n",
      "message 2: sVmJybYI\n",
      "message 3: YfhRC CD\n",
      "message 4: UXmAJJpP\n"
     ]
    }
   ],
   "source": [
    "df = pd.DataFrame(columns=['key', 'high', 'time_elapsed_micro'])\n",
    "text = string.ascii_uppercase + string.ascii_lowercase + string.digits + ' '\n",
    "\n",
    "nm = 5 # number of messages\n",
    "n = 100 # number of test cases per message\n",
    "for t in range(nm):\n",
    "    m = ''.join(random.choices(text, k = 8))   # message of 8 bytes for present\n",
    "    print('message {}: {}'.format(t,m))\n",
    "    for i in range(1,80):\n",
    "        # generate 10 random keys with count of set bits as 'i'\n",
    "        for j in range(n):\n",
    "            key = random_bits(80,i) # number with 'i' set bits\n",
    "            hex_key = hex(key).replace('0x','') # convert key to hex\n",
    "            hex_key = (20-len(hex_key))*'0' + hex_key # append 0 to start to make the length 20 \n",
    "            time_elapsed = encrpytPresent(m, hex_key)\n",
    "            df.loc[df.shape[0]+1] = [hex_key, i ,time_elapsed]"
   ]
  },
  {
   "cell_type": "code",
   "execution_count": 6,
   "metadata": {},
   "outputs": [
    {
     "data": {
      "text/html": [
       "<div>\n",
       "<style scoped>\n",
       "    .dataframe tbody tr th:only-of-type {\n",
       "        vertical-align: middle;\n",
       "    }\n",
       "\n",
       "    .dataframe tbody tr th {\n",
       "        vertical-align: top;\n",
       "    }\n",
       "\n",
       "    .dataframe thead th {\n",
       "        text-align: right;\n",
       "    }\n",
       "</style>\n",
       "<table border=\"1\" class=\"dataframe\">\n",
       "  <thead>\n",
       "    <tr style=\"text-align: right;\">\n",
       "      <th></th>\n",
       "      <th>key</th>\n",
       "      <th>high</th>\n",
       "      <th>time_elapsed_micro</th>\n",
       "    </tr>\n",
       "  </thead>\n",
       "  <tbody>\n",
       "    <tr>\n",
       "      <th>1</th>\n",
       "      <td>00000200000000000000</td>\n",
       "      <td>1</td>\n",
       "      <td>1.9849</td>\n",
       "    </tr>\n",
       "    <tr>\n",
       "      <th>2</th>\n",
       "      <td>00000004000000000000</td>\n",
       "      <td>1</td>\n",
       "      <td>2.1713</td>\n",
       "    </tr>\n",
       "    <tr>\n",
       "      <th>3</th>\n",
       "      <td>00080000000000000000</td>\n",
       "      <td>1</td>\n",
       "      <td>0.9011</td>\n",
       "    </tr>\n",
       "    <tr>\n",
       "      <th>4</th>\n",
       "      <td>00001000000000000000</td>\n",
       "      <td>1</td>\n",
       "      <td>2.3843</td>\n",
       "    </tr>\n",
       "    <tr>\n",
       "      <th>5</th>\n",
       "      <td>00000000000000000004</td>\n",
       "      <td>1</td>\n",
       "      <td>0.8890</td>\n",
       "    </tr>\n",
       "    <tr>\n",
       "      <th>...</th>\n",
       "      <td>...</td>\n",
       "      <td>...</td>\n",
       "      <td>...</td>\n",
       "    </tr>\n",
       "    <tr>\n",
       "      <th>39496</th>\n",
       "      <td>ffffffffffffffffffef</td>\n",
       "      <td>79</td>\n",
       "      <td>0.8852</td>\n",
       "    </tr>\n",
       "    <tr>\n",
       "      <th>39497</th>\n",
       "      <td>ffbfffffffffffffffff</td>\n",
       "      <td>79</td>\n",
       "      <td>0.8865</td>\n",
       "    </tr>\n",
       "    <tr>\n",
       "      <th>39498</th>\n",
       "      <td>fffffffffffffffdffff</td>\n",
       "      <td>79</td>\n",
       "      <td>0.9094</td>\n",
       "    </tr>\n",
       "    <tr>\n",
       "      <th>39499</th>\n",
       "      <td>fffffffffff7ffffffff</td>\n",
       "      <td>79</td>\n",
       "      <td>0.8819</td>\n",
       "    </tr>\n",
       "    <tr>\n",
       "      <th>39500</th>\n",
       "      <td>fffffffdffffffffffff</td>\n",
       "      <td>79</td>\n",
       "      <td>0.8841</td>\n",
       "    </tr>\n",
       "  </tbody>\n",
       "</table>\n",
       "<p>39500 rows × 3 columns</p>\n",
       "</div>"
      ],
      "text/plain": [
       "                        key high  time_elapsed_micro\n",
       "1      00000200000000000000    1              1.9849\n",
       "2      00000004000000000000    1              2.1713\n",
       "3      00080000000000000000    1              0.9011\n",
       "4      00001000000000000000    1              2.3843\n",
       "5      00000000000000000004    1              0.8890\n",
       "...                     ...  ...                 ...\n",
       "39496  ffffffffffffffffffef   79              0.8852\n",
       "39497  ffbfffffffffffffffff   79              0.8865\n",
       "39498  fffffffffffffffdffff   79              0.9094\n",
       "39499  fffffffffff7ffffffff   79              0.8819\n",
       "39500  fffffffdffffffffffff   79              0.8841\n",
       "\n",
       "[39500 rows x 3 columns]"
      ]
     },
     "execution_count": 6,
     "metadata": {},
     "output_type": "execute_result"
    }
   ],
   "source": [
    "df"
   ]
  },
  {
   "cell_type": "markdown",
   "metadata": {},
   "source": [
    "## Write to csv\n",
    "We store the data of `df` in `correlation_data.csv` "
   ]
  },
  {
   "cell_type": "code",
   "execution_count": 7,
   "metadata": {},
   "outputs": [],
   "source": [
    "df.to_csv('correlation_data.csv',index=False)"
   ]
  },
  {
   "cell_type": "code",
   "execution_count": 9,
   "metadata": {},
   "outputs": [
    {
     "data": {
      "image/png": "[encoded data removed]",
      "text/plain": [
       "<Figure size 432x288 with 2 Axes>"
      ]
     },
     "metadata": {
      "needs_background": "light"
     },
     "output_type": "display_data"
    }
   ],
   "source": [
    "sns.heatmap(df.corr(),annot= True);"
   ]
  },
  {
   "cell_type": "markdown",
   "metadata": {},
   "source": [
    "The above heatmap shows that there is nearly zero correlation between elapsed time and number of set bits."
   ]
  },
  {
   "cell_type": "markdown",
   "metadata": {},
   "source": [
    "## Visualization\n",
    "Line plot of number of set bits vs average time elapsed."
   ]
  },
  {
   "cell_type": "code",
   "execution_count": 10,
   "metadata": {},
   "outputs": [
    {
     "data": {
      "image/png": "[encoded data removed]",
      "text/plain": [
       "<Figure size 432x288 with 1 Axes>"
      ]
     },
     "metadata": {
      "needs_background": "light"
     },
     "output_type": "display_data"
    }
   ],
   "source": [
    "gp = df.groupby('high')\n",
    "ax = sns.lineplot(x = gp.mean()['time_elapsed_micro'].keys(),y = gp.mean()['time_elapsed_micro'].values);\n",
    "ax.set(xlabel=\"Number of set bits\", ylabel = \"Average time elapsed (microseconds)\");"
   ]
  }
 ],
 "metadata": {
  "kernelspec": {
   "display_name": "Python 3",
   "language": "python",
   "name": "python3"
  },
  "language_info": {
   "codemirror_mode": {
    "name": "ipython",
    "version": 3
   },
   "file_extension": ".py",
   "mimetype": "text/x-python",
   "name": "python",
   "nbconvert_exporter": "python",
   "pygments_lexer": "ipython3",
   "version": "3.7.7"
  },
  "toc": {
   "base_numbering": 1,
   "nav_menu": {},
   "number_sections": true,
   "sideBar": true,
   "skip_h1_title": false,
   "title_cell": "Table of Contents",
   "title_sidebar": "Contents",
   "toc_cell": false,
   "toc_position": {},
   "toc_section_display": true,
   "toc_window_display": false
  }
 },
 "nbformat": 4,
 "nbformat_minor": 4
}
